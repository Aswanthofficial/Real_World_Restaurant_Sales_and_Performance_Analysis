{
  "nbformat": 4,
  "nbformat_minor": 0,
  "metadata": {
    "colab": {
      "provenance": []
    },
    "kernelspec": {
      "name": "python3",
      "display_name": "Python 3"
    },
    "language_info": {
      "name": "python"
    }
  },
  "cells": [
    {
      "cell_type": "markdown",
      "source": [
        "# Real-World Restaurant Sales & Performance Analysis"
      ],
      "metadata": {
        "id": "1F2WBf4sTuo2"
      }
    },
    {
      "cell_type": "code",
      "source": [
        "import pandas as pd\n",
        "import numpy as np"
      ],
      "metadata": {
        "id": "uXDAm_zxT065"
      },
      "execution_count": 27,
      "outputs": []
    },
    {
      "cell_type": "code",
      "source": [
        "data=pd.read_csv(\"/content/drive/MyDrive/Dataset ML/Data.csv\")\n",
        "data"
      ],
      "metadata": {
        "colab": {
          "base_uri": "https://localhost:8080/",
          "height": 614
        },
        "id": "X9xD9PVZUQUU",
        "outputId": "a6106920-b6d9-4197-a7d0-5136b88f9564"
      },
      "execution_count": 28,
      "outputs": [
        {
          "output_type": "execute_result",
          "data": {
            "text/plain": [
              "            Date            Timestamp  Invoice No.  \\\n",
              "0     2023-09-19  2023-09-19 22:03:44        28389   \n",
              "1     2023-09-19  2023-09-19 22:03:44        28389   \n",
              "2     2023-09-19  2023-09-19 22:03:44        28389   \n",
              "3     2023-09-19  2023-09-19 22:03:44        28389   \n",
              "4     2023-09-19  2023-09-19 22:03:44        28389   \n",
              "...          ...                  ...          ...   \n",
              "7237  2023-07-01  2023-07-01 15:17:24        26194   \n",
              "7238  2023-07-01  2023-07-01 15:17:24        26194   \n",
              "7239  2023-07-01  2023-07-01 13:12:54        26193   \n",
              "7240  2023-07-01  2023-07-01 13:08:33        26192   \n",
              "7241  2023-07-01  2023-07-01 13:07:17        26191   \n",
              "\n",
              "                                   Item Name  Price  Qty.  Sub Total  \\\n",
              "0                                     Kulcha   55.0   1.0       55.0   \n",
              "1                                     Parota   30.0   4.0      120.0   \n",
              "2                            Mushroom Masala  150.0   1.0      150.0   \n",
              "3                       Paneer Butter Masala  150.0   1.0      150.0   \n",
              "4                                   Gobi- 65  120.0   1.0      120.0   \n",
              "...                                      ...    ...   ...        ...   \n",
              "7237                              Lemon Soda   50.0   1.0       50.0   \n",
              "7238                           Mineral Water   20.0   1.0       20.0   \n",
              "7239                              Lemon Soda   50.0   3.0      150.0   \n",
              "7240                         Oreo Milk Shake  120.0   1.0      120.0   \n",
              "7241  Chicken Biriyani With Raitha And Gravy  160.0   2.0      320.0   \n",
              "\n",
              "      Discount    Tax  Final Total  Table No. Server Name  Covers Variation  \\\n",
              "0          0.0   2.76        57.76         16      biller       0       NaN   \n",
              "1          0.0   6.00       126.00         16      biller       0       NaN   \n",
              "2          0.0   7.50       157.50         16      biller       0       NaN   \n",
              "3          0.0   7.50       157.50         16      biller       0       NaN   \n",
              "4          0.0   6.00       126.00         16      biller       0       NaN   \n",
              "...        ...    ...          ...        ...         ...     ...       ...   \n",
              "7237       0.0   2.50        52.50          3      biller       0       NaN   \n",
              "7238       0.0   1.00        21.00          3      biller       0       NaN   \n",
              "7239       0.0   7.50       157.50         10      biller       0       NaN   \n",
              "7240       0.0   6.00       126.00          4      biller       0       NaN   \n",
              "7241       0.0  16.00       336.00          2      biller       0       NaN   \n",
              "\n",
              "                    Category  HSN  \n",
              "0              Indian Breads  NaN  \n",
              "1              Indian Breads  NaN  \n",
              "2                  Veg Gravy  NaN  \n",
              "3                  Veg Gravy  NaN  \n",
              "4               Veg Starters  NaN  \n",
              "...                      ...  ...  \n",
              "7237     Deserts & Mocktails  NaN  \n",
              "7238     Deserts & Mocktails  NaN  \n",
              "7239     Deserts & Mocktails  NaN  \n",
              "7240     Deserts & Mocktails  NaN  \n",
              "7241  NON VEG BRIYANI & RICE  NaN  \n",
              "\n",
              "[7242 rows x 16 columns]"
            ],
            "text/html": [
              "\n",
              "  <div id=\"df-cd3a481b-8ea6-4f43-90ec-49a47e31f2e2\" class=\"colab-df-container\">\n",
              "    <div>\n",
              "<style scoped>\n",
              "    .dataframe tbody tr th:only-of-type {\n",
              "        vertical-align: middle;\n",
              "    }\n",
              "\n",
              "    .dataframe tbody tr th {\n",
              "        vertical-align: top;\n",
              "    }\n",
              "\n",
              "    .dataframe thead th {\n",
              "        text-align: right;\n",
              "    }\n",
              "</style>\n",
              "<table border=\"1\" class=\"dataframe\">\n",
              "  <thead>\n",
              "    <tr style=\"text-align: right;\">\n",
              "      <th></th>\n",
              "      <th>Date</th>\n",
              "      <th>Timestamp</th>\n",
              "      <th>Invoice No.</th>\n",
              "      <th>Item Name</th>\n",
              "      <th>Price</th>\n",
              "      <th>Qty.</th>\n",
              "      <th>Sub Total</th>\n",
              "      <th>Discount</th>\n",
              "      <th>Tax</th>\n",
              "      <th>Final Total</th>\n",
              "      <th>Table No.</th>\n",
              "      <th>Server Name</th>\n",
              "      <th>Covers</th>\n",
              "      <th>Variation</th>\n",
              "      <th>Category</th>\n",
              "      <th>HSN</th>\n",
              "    </tr>\n",
              "  </thead>\n",
              "  <tbody>\n",
              "    <tr>\n",
              "      <th>0</th>\n",
              "      <td>2023-09-19</td>\n",
              "      <td>2023-09-19 22:03:44</td>\n",
              "      <td>28389</td>\n",
              "      <td>Kulcha</td>\n",
              "      <td>55.0</td>\n",
              "      <td>1.0</td>\n",
              "      <td>55.0</td>\n",
              "      <td>0.0</td>\n",
              "      <td>2.76</td>\n",
              "      <td>57.76</td>\n",
              "      <td>16</td>\n",
              "      <td>biller</td>\n",
              "      <td>0</td>\n",
              "      <td>NaN</td>\n",
              "      <td>Indian Breads</td>\n",
              "      <td>NaN</td>\n",
              "    </tr>\n",
              "    <tr>\n",
              "      <th>1</th>\n",
              "      <td>2023-09-19</td>\n",
              "      <td>2023-09-19 22:03:44</td>\n",
              "      <td>28389</td>\n",
              "      <td>Parota</td>\n",
              "      <td>30.0</td>\n",
              "      <td>4.0</td>\n",
              "      <td>120.0</td>\n",
              "      <td>0.0</td>\n",
              "      <td>6.00</td>\n",
              "      <td>126.00</td>\n",
              "      <td>16</td>\n",
              "      <td>biller</td>\n",
              "      <td>0</td>\n",
              "      <td>NaN</td>\n",
              "      <td>Indian Breads</td>\n",
              "      <td>NaN</td>\n",
              "    </tr>\n",
              "    <tr>\n",
              "      <th>2</th>\n",
              "      <td>2023-09-19</td>\n",
              "      <td>2023-09-19 22:03:44</td>\n",
              "      <td>28389</td>\n",
              "      <td>Mushroom Masala</td>\n",
              "      <td>150.0</td>\n",
              "      <td>1.0</td>\n",
              "      <td>150.0</td>\n",
              "      <td>0.0</td>\n",
              "      <td>7.50</td>\n",
              "      <td>157.50</td>\n",
              "      <td>16</td>\n",
              "      <td>biller</td>\n",
              "      <td>0</td>\n",
              "      <td>NaN</td>\n",
              "      <td>Veg Gravy</td>\n",
              "      <td>NaN</td>\n",
              "    </tr>\n",
              "    <tr>\n",
              "      <th>3</th>\n",
              "      <td>2023-09-19</td>\n",
              "      <td>2023-09-19 22:03:44</td>\n",
              "      <td>28389</td>\n",
              "      <td>Paneer Butter Masala</td>\n",
              "      <td>150.0</td>\n",
              "      <td>1.0</td>\n",
              "      <td>150.0</td>\n",
              "      <td>0.0</td>\n",
              "      <td>7.50</td>\n",
              "      <td>157.50</td>\n",
              "      <td>16</td>\n",
              "      <td>biller</td>\n",
              "      <td>0</td>\n",
              "      <td>NaN</td>\n",
              "      <td>Veg Gravy</td>\n",
              "      <td>NaN</td>\n",
              "    </tr>\n",
              "    <tr>\n",
              "      <th>4</th>\n",
              "      <td>2023-09-19</td>\n",
              "      <td>2023-09-19 22:03:44</td>\n",
              "      <td>28389</td>\n",
              "      <td>Gobi- 65</td>\n",
              "      <td>120.0</td>\n",
              "      <td>1.0</td>\n",
              "      <td>120.0</td>\n",
              "      <td>0.0</td>\n",
              "      <td>6.00</td>\n",
              "      <td>126.00</td>\n",
              "      <td>16</td>\n",
              "      <td>biller</td>\n",
              "      <td>0</td>\n",
              "      <td>NaN</td>\n",
              "      <td>Veg Starters</td>\n",
              "      <td>NaN</td>\n",
              "    </tr>\n",
              "    <tr>\n",
              "      <th>...</th>\n",
              "      <td>...</td>\n",
              "      <td>...</td>\n",
              "      <td>...</td>\n",
              "      <td>...</td>\n",
              "      <td>...</td>\n",
              "      <td>...</td>\n",
              "      <td>...</td>\n",
              "      <td>...</td>\n",
              "      <td>...</td>\n",
              "      <td>...</td>\n",
              "      <td>...</td>\n",
              "      <td>...</td>\n",
              "      <td>...</td>\n",
              "      <td>...</td>\n",
              "      <td>...</td>\n",
              "      <td>...</td>\n",
              "    </tr>\n",
              "    <tr>\n",
              "      <th>7237</th>\n",
              "      <td>2023-07-01</td>\n",
              "      <td>2023-07-01 15:17:24</td>\n",
              "      <td>26194</td>\n",
              "      <td>Lemon Soda</td>\n",
              "      <td>50.0</td>\n",
              "      <td>1.0</td>\n",
              "      <td>50.0</td>\n",
              "      <td>0.0</td>\n",
              "      <td>2.50</td>\n",
              "      <td>52.50</td>\n",
              "      <td>3</td>\n",
              "      <td>biller</td>\n",
              "      <td>0</td>\n",
              "      <td>NaN</td>\n",
              "      <td>Deserts &amp; Mocktails</td>\n",
              "      <td>NaN</td>\n",
              "    </tr>\n",
              "    <tr>\n",
              "      <th>7238</th>\n",
              "      <td>2023-07-01</td>\n",
              "      <td>2023-07-01 15:17:24</td>\n",
              "      <td>26194</td>\n",
              "      <td>Mineral Water</td>\n",
              "      <td>20.0</td>\n",
              "      <td>1.0</td>\n",
              "      <td>20.0</td>\n",
              "      <td>0.0</td>\n",
              "      <td>1.00</td>\n",
              "      <td>21.00</td>\n",
              "      <td>3</td>\n",
              "      <td>biller</td>\n",
              "      <td>0</td>\n",
              "      <td>NaN</td>\n",
              "      <td>Deserts &amp; Mocktails</td>\n",
              "      <td>NaN</td>\n",
              "    </tr>\n",
              "    <tr>\n",
              "      <th>7239</th>\n",
              "      <td>2023-07-01</td>\n",
              "      <td>2023-07-01 13:12:54</td>\n",
              "      <td>26193</td>\n",
              "      <td>Lemon Soda</td>\n",
              "      <td>50.0</td>\n",
              "      <td>3.0</td>\n",
              "      <td>150.0</td>\n",
              "      <td>0.0</td>\n",
              "      <td>7.50</td>\n",
              "      <td>157.50</td>\n",
              "      <td>10</td>\n",
              "      <td>biller</td>\n",
              "      <td>0</td>\n",
              "      <td>NaN</td>\n",
              "      <td>Deserts &amp; Mocktails</td>\n",
              "      <td>NaN</td>\n",
              "    </tr>\n",
              "    <tr>\n",
              "      <th>7240</th>\n",
              "      <td>2023-07-01</td>\n",
              "      <td>2023-07-01 13:08:33</td>\n",
              "      <td>26192</td>\n",
              "      <td>Oreo Milk Shake</td>\n",
              "      <td>120.0</td>\n",
              "      <td>1.0</td>\n",
              "      <td>120.0</td>\n",
              "      <td>0.0</td>\n",
              "      <td>6.00</td>\n",
              "      <td>126.00</td>\n",
              "      <td>4</td>\n",
              "      <td>biller</td>\n",
              "      <td>0</td>\n",
              "      <td>NaN</td>\n",
              "      <td>Deserts &amp; Mocktails</td>\n",
              "      <td>NaN</td>\n",
              "    </tr>\n",
              "    <tr>\n",
              "      <th>7241</th>\n",
              "      <td>2023-07-01</td>\n",
              "      <td>2023-07-01 13:07:17</td>\n",
              "      <td>26191</td>\n",
              "      <td>Chicken Biriyani With Raitha And Gravy</td>\n",
              "      <td>160.0</td>\n",
              "      <td>2.0</td>\n",
              "      <td>320.0</td>\n",
              "      <td>0.0</td>\n",
              "      <td>16.00</td>\n",
              "      <td>336.00</td>\n",
              "      <td>2</td>\n",
              "      <td>biller</td>\n",
              "      <td>0</td>\n",
              "      <td>NaN</td>\n",
              "      <td>NON VEG BRIYANI &amp; RICE</td>\n",
              "      <td>NaN</td>\n",
              "    </tr>\n",
              "  </tbody>\n",
              "</table>\n",
              "<p>7242 rows × 16 columns</p>\n",
              "</div>\n",
              "    <div class=\"colab-df-buttons\">\n",
              "\n",
              "  <div class=\"colab-df-container\">\n",
              "    <button class=\"colab-df-convert\" onclick=\"convertToInteractive('df-cd3a481b-8ea6-4f43-90ec-49a47e31f2e2')\"\n",
              "            title=\"Convert this dataframe to an interactive table.\"\n",
              "            style=\"display:none;\">\n",
              "\n",
              "  <svg xmlns=\"http://www.w3.org/2000/svg\" height=\"24px\" viewBox=\"0 -960 960 960\">\n",
              "    <path d=\"M120-120v-720h720v720H120Zm60-500h600v-160H180v160Zm220 220h160v-160H400v160Zm0 220h160v-160H400v160ZM180-400h160v-160H180v160Zm440 0h160v-160H620v160ZM180-180h160v-160H180v160Zm440 0h160v-160H620v160Z\"/>\n",
              "  </svg>\n",
              "    </button>\n",
              "\n",
              "  <style>\n",
              "    .colab-df-container {\n",
              "      display:flex;\n",
              "      gap: 12px;\n",
              "    }\n",
              "\n",
              "    .colab-df-convert {\n",
              "      background-color: #E8F0FE;\n",
              "      border: none;\n",
              "      border-radius: 50%;\n",
              "      cursor: pointer;\n",
              "      display: none;\n",
              "      fill: #1967D2;\n",
              "      height: 32px;\n",
              "      padding: 0 0 0 0;\n",
              "      width: 32px;\n",
              "    }\n",
              "\n",
              "    .colab-df-convert:hover {\n",
              "      background-color: #E2EBFA;\n",
              "      box-shadow: 0px 1px 2px rgba(60, 64, 67, 0.3), 0px 1px 3px 1px rgba(60, 64, 67, 0.15);\n",
              "      fill: #174EA6;\n",
              "    }\n",
              "\n",
              "    .colab-df-buttons div {\n",
              "      margin-bottom: 4px;\n",
              "    }\n",
              "\n",
              "    [theme=dark] .colab-df-convert {\n",
              "      background-color: #3B4455;\n",
              "      fill: #D2E3FC;\n",
              "    }\n",
              "\n",
              "    [theme=dark] .colab-df-convert:hover {\n",
              "      background-color: #434B5C;\n",
              "      box-shadow: 0px 1px 3px 1px rgba(0, 0, 0, 0.15);\n",
              "      filter: drop-shadow(0px 1px 2px rgba(0, 0, 0, 0.3));\n",
              "      fill: #FFFFFF;\n",
              "    }\n",
              "  </style>\n",
              "\n",
              "    <script>\n",
              "      const buttonEl =\n",
              "        document.querySelector('#df-cd3a481b-8ea6-4f43-90ec-49a47e31f2e2 button.colab-df-convert');\n",
              "      buttonEl.style.display =\n",
              "        google.colab.kernel.accessAllowed ? 'block' : 'none';\n",
              "\n",
              "      async function convertToInteractive(key) {\n",
              "        const element = document.querySelector('#df-cd3a481b-8ea6-4f43-90ec-49a47e31f2e2');\n",
              "        const dataTable =\n",
              "          await google.colab.kernel.invokeFunction('convertToInteractive',\n",
              "                                                    [key], {});\n",
              "        if (!dataTable) return;\n",
              "\n",
              "        const docLinkHtml = 'Like what you see? Visit the ' +\n",
              "          '<a target=\"_blank\" href=https://colab.research.google.com/notebooks/data_table.ipynb>data table notebook</a>'\n",
              "          + ' to learn more about interactive tables.';\n",
              "        element.innerHTML = '';\n",
              "        dataTable['output_type'] = 'display_data';\n",
              "        await google.colab.output.renderOutput(dataTable, element);\n",
              "        const docLink = document.createElement('div');\n",
              "        docLink.innerHTML = docLinkHtml;\n",
              "        element.appendChild(docLink);\n",
              "      }\n",
              "    </script>\n",
              "  </div>\n",
              "\n",
              "\n",
              "    <div id=\"df-bc17695e-7441-4152-8057-3f5f4a58b5fc\">\n",
              "      <button class=\"colab-df-quickchart\" onclick=\"quickchart('df-bc17695e-7441-4152-8057-3f5f4a58b5fc')\"\n",
              "                title=\"Suggest charts\"\n",
              "                style=\"display:none;\">\n",
              "\n",
              "<svg xmlns=\"http://www.w3.org/2000/svg\" height=\"24px\"viewBox=\"0 0 24 24\"\n",
              "     width=\"24px\">\n",
              "    <g>\n",
              "        <path d=\"M19 3H5c-1.1 0-2 .9-2 2v14c0 1.1.9 2 2 2h14c1.1 0 2-.9 2-2V5c0-1.1-.9-2-2-2zM9 17H7v-7h2v7zm4 0h-2V7h2v10zm4 0h-2v-4h2v4z\"/>\n",
              "    </g>\n",
              "</svg>\n",
              "      </button>\n",
              "\n",
              "<style>\n",
              "  .colab-df-quickchart {\n",
              "      --bg-color: #E8F0FE;\n",
              "      --fill-color: #1967D2;\n",
              "      --hover-bg-color: #E2EBFA;\n",
              "      --hover-fill-color: #174EA6;\n",
              "      --disabled-fill-color: #AAA;\n",
              "      --disabled-bg-color: #DDD;\n",
              "  }\n",
              "\n",
              "  [theme=dark] .colab-df-quickchart {\n",
              "      --bg-color: #3B4455;\n",
              "      --fill-color: #D2E3FC;\n",
              "      --hover-bg-color: #434B5C;\n",
              "      --hover-fill-color: #FFFFFF;\n",
              "      --disabled-bg-color: #3B4455;\n",
              "      --disabled-fill-color: #666;\n",
              "  }\n",
              "\n",
              "  .colab-df-quickchart {\n",
              "    background-color: var(--bg-color);\n",
              "    border: none;\n",
              "    border-radius: 50%;\n",
              "    cursor: pointer;\n",
              "    display: none;\n",
              "    fill: var(--fill-color);\n",
              "    height: 32px;\n",
              "    padding: 0;\n",
              "    width: 32px;\n",
              "  }\n",
              "\n",
              "  .colab-df-quickchart:hover {\n",
              "    background-color: var(--hover-bg-color);\n",
              "    box-shadow: 0 1px 2px rgba(60, 64, 67, 0.3), 0 1px 3px 1px rgba(60, 64, 67, 0.15);\n",
              "    fill: var(--button-hover-fill-color);\n",
              "  }\n",
              "\n",
              "  .colab-df-quickchart-complete:disabled,\n",
              "  .colab-df-quickchart-complete:disabled:hover {\n",
              "    background-color: var(--disabled-bg-color);\n",
              "    fill: var(--disabled-fill-color);\n",
              "    box-shadow: none;\n",
              "  }\n",
              "\n",
              "  .colab-df-spinner {\n",
              "    border: 2px solid var(--fill-color);\n",
              "    border-color: transparent;\n",
              "    border-bottom-color: var(--fill-color);\n",
              "    animation:\n",
              "      spin 1s steps(1) infinite;\n",
              "  }\n",
              "\n",
              "  @keyframes spin {\n",
              "    0% {\n",
              "      border-color: transparent;\n",
              "      border-bottom-color: var(--fill-color);\n",
              "      border-left-color: var(--fill-color);\n",
              "    }\n",
              "    20% {\n",
              "      border-color: transparent;\n",
              "      border-left-color: var(--fill-color);\n",
              "      border-top-color: var(--fill-color);\n",
              "    }\n",
              "    30% {\n",
              "      border-color: transparent;\n",
              "      border-left-color: var(--fill-color);\n",
              "      border-top-color: var(--fill-color);\n",
              "      border-right-color: var(--fill-color);\n",
              "    }\n",
              "    40% {\n",
              "      border-color: transparent;\n",
              "      border-right-color: var(--fill-color);\n",
              "      border-top-color: var(--fill-color);\n",
              "    }\n",
              "    60% {\n",
              "      border-color: transparent;\n",
              "      border-right-color: var(--fill-color);\n",
              "    }\n",
              "    80% {\n",
              "      border-color: transparent;\n",
              "      border-right-color: var(--fill-color);\n",
              "      border-bottom-color: var(--fill-color);\n",
              "    }\n",
              "    90% {\n",
              "      border-color: transparent;\n",
              "      border-bottom-color: var(--fill-color);\n",
              "    }\n",
              "  }\n",
              "</style>\n",
              "\n",
              "      <script>\n",
              "        async function quickchart(key) {\n",
              "          const quickchartButtonEl =\n",
              "            document.querySelector('#' + key + ' button');\n",
              "          quickchartButtonEl.disabled = true;  // To prevent multiple clicks.\n",
              "          quickchartButtonEl.classList.add('colab-df-spinner');\n",
              "          try {\n",
              "            const charts = await google.colab.kernel.invokeFunction(\n",
              "                'suggestCharts', [key], {});\n",
              "          } catch (error) {\n",
              "            console.error('Error during call to suggestCharts:', error);\n",
              "          }\n",
              "          quickchartButtonEl.classList.remove('colab-df-spinner');\n",
              "          quickchartButtonEl.classList.add('colab-df-quickchart-complete');\n",
              "        }\n",
              "        (() => {\n",
              "          let quickchartButtonEl =\n",
              "            document.querySelector('#df-bc17695e-7441-4152-8057-3f5f4a58b5fc button');\n",
              "          quickchartButtonEl.style.display =\n",
              "            google.colab.kernel.accessAllowed ? 'block' : 'none';\n",
              "        })();\n",
              "      </script>\n",
              "    </div>\n",
              "\n",
              "  <div id=\"id_5960b590-0538-4c96-8730-2b6aeeaa5f24\">\n",
              "    <style>\n",
              "      .colab-df-generate {\n",
              "        background-color: #E8F0FE;\n",
              "        border: none;\n",
              "        border-radius: 50%;\n",
              "        cursor: pointer;\n",
              "        display: none;\n",
              "        fill: #1967D2;\n",
              "        height: 32px;\n",
              "        padding: 0 0 0 0;\n",
              "        width: 32px;\n",
              "      }\n",
              "\n",
              "      .colab-df-generate:hover {\n",
              "        background-color: #E2EBFA;\n",
              "        box-shadow: 0px 1px 2px rgba(60, 64, 67, 0.3), 0px 1px 3px 1px rgba(60, 64, 67, 0.15);\n",
              "        fill: #174EA6;\n",
              "      }\n",
              "\n",
              "      [theme=dark] .colab-df-generate {\n",
              "        background-color: #3B4455;\n",
              "        fill: #D2E3FC;\n",
              "      }\n",
              "\n",
              "      [theme=dark] .colab-df-generate:hover {\n",
              "        background-color: #434B5C;\n",
              "        box-shadow: 0px 1px 3px 1px rgba(0, 0, 0, 0.15);\n",
              "        filter: drop-shadow(0px 1px 2px rgba(0, 0, 0, 0.3));\n",
              "        fill: #FFFFFF;\n",
              "      }\n",
              "    </style>\n",
              "    <button class=\"colab-df-generate\" onclick=\"generateWithVariable('data')\"\n",
              "            title=\"Generate code using this dataframe.\"\n",
              "            style=\"display:none;\">\n",
              "\n",
              "  <svg xmlns=\"http://www.w3.org/2000/svg\" height=\"24px\"viewBox=\"0 0 24 24\"\n",
              "       width=\"24px\">\n",
              "    <path d=\"M7,19H8.4L18.45,9,17,7.55,7,17.6ZM5,21V16.75L18.45,3.32a2,2,0,0,1,2.83,0l1.4,1.43a1.91,1.91,0,0,1,.58,1.4,1.91,1.91,0,0,1-.58,1.4L9.25,21ZM18.45,9,17,7.55Zm-12,3A5.31,5.31,0,0,0,4.9,8.1,5.31,5.31,0,0,0,1,6.5,5.31,5.31,0,0,0,4.9,4.9,5.31,5.31,0,0,0,6.5,1,5.31,5.31,0,0,0,8.1,4.9,5.31,5.31,0,0,0,12,6.5,5.46,5.46,0,0,0,6.5,12Z\"/>\n",
              "  </svg>\n",
              "    </button>\n",
              "    <script>\n",
              "      (() => {\n",
              "      const buttonEl =\n",
              "        document.querySelector('#id_5960b590-0538-4c96-8730-2b6aeeaa5f24 button.colab-df-generate');\n",
              "      buttonEl.style.display =\n",
              "        google.colab.kernel.accessAllowed ? 'block' : 'none';\n",
              "\n",
              "      buttonEl.onclick = () => {\n",
              "        google.colab.notebook.generateWithVariable('data');\n",
              "      }\n",
              "      })();\n",
              "    </script>\n",
              "  </div>\n",
              "\n",
              "    </div>\n",
              "  </div>\n"
            ],
            "application/vnd.google.colaboratory.intrinsic+json": {
              "type": "dataframe",
              "variable_name": "data",
              "summary": "{\n  \"name\": \"data\",\n  \"rows\": 7242,\n  \"fields\": [\n    {\n      \"column\": \"Date\",\n      \"properties\": {\n        \"dtype\": \"object\",\n        \"num_unique_values\": 80,\n        \"samples\": [\n          \"2023-08-20\",\n          \"2023-09-19\",\n          \"2023-08-28\"\n        ],\n        \"semantic_type\": \"\",\n        \"description\": \"\"\n      }\n    },\n    {\n      \"column\": \"Timestamp\",\n      \"properties\": {\n        \"dtype\": \"object\",\n        \"num_unique_values\": 2199,\n        \"samples\": [\n          \"2023-09-06 22:09:18\",\n          \"2023-08-13 20:11:03\",\n          \"2023-09-08 19:26:16\"\n        ],\n        \"semantic_type\": \"\",\n        \"description\": \"\"\n      }\n    },\n    {\n      \"column\": \"Invoice No.\",\n      \"properties\": {\n        \"dtype\": \"number\",\n        \"std\": 613,\n        \"min\": 26191,\n        \"max\": 28389,\n        \"num_unique_values\": 2199,\n        \"samples\": [\n          27962,\n          27261,\n          28022\n        ],\n        \"semantic_type\": \"\",\n        \"description\": \"\"\n      }\n    },\n    {\n      \"column\": \"Item Name\",\n      \"properties\": {\n        \"dtype\": \"category\",\n        \"num_unique_values\": 249,\n        \"samples\": [\n          \"Schewan Egg Noodle\",\n          \"Chilly Fish Dry\",\n          \"Masala Omelet (two Eggs\"\n        ],\n        \"semantic_type\": \"\",\n        \"description\": \"\"\n      }\n    },\n    {\n      \"column\": \"Price\",\n      \"properties\": {\n        \"dtype\": \"number\",\n        \"std\": 61.39345337006231,\n        \"min\": 20.0,\n        \"max\": 399.0,\n        \"num_unique_values\": 31,\n        \"samples\": [\n          250.0,\n          90.0,\n          109.0\n        ],\n        \"semantic_type\": \"\",\n        \"description\": \"\"\n      }\n    },\n    {\n      \"column\": \"Qty.\",\n      \"properties\": {\n        \"dtype\": \"number\",\n        \"std\": 0.9483740833799866,\n        \"min\": 1.0,\n        \"max\": 19.0,\n        \"num_unique_values\": 14,\n        \"samples\": [\n          8.0,\n          19.0,\n          1.0\n        ],\n        \"semantic_type\": \"\",\n        \"description\": \"\"\n      }\n    },\n    {\n      \"column\": \"Sub Total\",\n      \"properties\": {\n        \"dtype\": \"number\",\n        \"std\": 134.13644166391998,\n        \"min\": 20.0,\n        \"max\": 3781.0,\n        \"num_unique_values\": 92,\n        \"samples\": [\n          25.0,\n          180.0,\n          239.0\n        ],\n        \"semantic_type\": \"\",\n        \"description\": \"\"\n      }\n    },\n    {\n      \"column\": \"Discount\",\n      \"properties\": {\n        \"dtype\": \"number\",\n        \"std\": 6.649815120576349,\n        \"min\": 0.0,\n        \"max\": 288.0,\n        \"num_unique_values\": 77,\n        \"samples\": [\n          2.0,\n          19.8,\n          8.0\n        ],\n        \"semantic_type\": \"\",\n        \"description\": \"\"\n      }\n    },\n    {\n      \"column\": \"Tax\",\n      \"properties\": {\n        \"dtype\": \"number\",\n        \"std\": 6.6625330716610085,\n        \"min\": 0.9,\n        \"max\": 189.06,\n        \"num_unique_values\": 178,\n        \"samples\": [\n          13.0,\n          4.4,\n          8.88\n        ],\n        \"semantic_type\": \"\",\n        \"description\": \"\"\n      }\n    },\n    {\n      \"column\": \"Final Total\",\n      \"properties\": {\n        \"dtype\": \"number\",\n        \"std\": 139.9137929691451,\n        \"min\": 18.9,\n        \"max\": 3970.06,\n        \"num_unique_values\": 181,\n        \"samples\": [\n          273.0,\n          816.9,\n          491.4\n        ],\n        \"semantic_type\": \"\",\n        \"description\": \"\"\n      }\n    },\n    {\n      \"column\": \"Table No.\",\n      \"properties\": {\n        \"dtype\": \"number\",\n        \"std\": 18,\n        \"min\": 1,\n        \"max\": 50,\n        \"num_unique_values\": 46,\n        \"samples\": [\n          27,\n          49,\n          20\n        ],\n        \"semantic_type\": \"\",\n        \"description\": \"\"\n      }\n    },\n    {\n      \"column\": \"Server Name\",\n      \"properties\": {\n        \"dtype\": \"category\",\n        \"num_unique_values\": 1,\n        \"samples\": [\n          \"biller\"\n        ],\n        \"semantic_type\": \"\",\n        \"description\": \"\"\n      }\n    },\n    {\n      \"column\": \"Covers\",\n      \"properties\": {\n        \"dtype\": \"number\",\n        \"std\": 0,\n        \"min\": 0,\n        \"max\": 0,\n        \"num_unique_values\": 1,\n        \"samples\": [\n          0\n        ],\n        \"semantic_type\": \"\",\n        \"description\": \"\"\n      }\n    },\n    {\n      \"column\": \"Variation\",\n      \"properties\": {\n        \"dtype\": \"category\",\n        \"num_unique_values\": 3,\n        \"samples\": [\n          \"Mushroom\"\n        ],\n        \"semantic_type\": \"\",\n        \"description\": \"\"\n      }\n    },\n    {\n      \"column\": \"Category\",\n      \"properties\": {\n        \"dtype\": \"category\",\n        \"num_unique_values\": 15,\n        \"samples\": [\n          \"Non Veg Soup\"\n        ],\n        \"semantic_type\": \"\",\n        \"description\": \"\"\n      }\n    },\n    {\n      \"column\": \"HSN\",\n      \"properties\": {\n        \"dtype\": \"number\",\n        \"std\": null,\n        \"min\": null,\n        \"max\": null,\n        \"num_unique_values\": 0,\n        \"samples\": [],\n        \"semantic_type\": \"\",\n        \"description\": \"\"\n      }\n    }\n  ]\n}"
            }
          },
          "metadata": {},
          "execution_count": 28
        }
      ]
    },
    {
      "cell_type": "markdown",
      "source": [
        "** date - Higest average sales - 19.07.23 - 319**"
      ],
      "metadata": {
        "id": "DfY2CsarVZqK"
      }
    },
    {
      "cell_type": "code",
      "source": [
        "a=data[data['Date']=='2023-07-19']\n",
        "highest_avg = data.groupby('Date')['Final Total'].mean().sort_values(ascending=False)\n",
        "print(highest_avg.head(1))"
      ],
      "metadata": {
        "colab": {
          "base_uri": "https://localhost:8080/"
        },
        "id": "E4602uRPUkbi",
        "outputId": "636118f0-1da7-43da-a99e-13f57d04af79"
      },
      "execution_count": 31,
      "outputs": [
        {
          "output_type": "stream",
          "name": "stdout",
          "text": [
            "Date\n",
            "2023-07-19    319.837857\n",
            "Name: Final Total, dtype: float64\n"
          ]
        }
      ]
    },
    {
      "cell_type": "markdown",
      "source": [
        "**bold text how many total bill are there?**"
      ],
      "metadata": {
        "id": "b49BrTj3Xrt6"
      }
    },
    {
      "cell_type": "code",
      "source": [
        "data['Invoice No.'].nunique()"
      ],
      "metadata": {
        "colab": {
          "base_uri": "https://localhost:8080/"
        },
        "id": "c-HR7QzSWZll",
        "outputId": "59cd60e4-d72c-430c-f108-1a77e43b3414"
      },
      "execution_count": 32,
      "outputs": [
        {
          "output_type": "execute_result",
          "data": {
            "text/plain": [
              "2199"
            ]
          },
          "metadata": {},
          "execution_count": 32
        }
      ]
    },
    {
      "cell_type": "markdown",
      "source": [
        "** most sold item of semtember month**"
      ],
      "metadata": {
        "id": "Z412mWdzYkeF"
      }
    },
    {
      "cell_type": "code",
      "source": [
        "a=data[(data['Date']>='2023-09-01') & (data['Date']<='2023-09-30')]\n",
        "quantity = data.groupby(\"Item Name\")[\"Qty.\"].sum().sort_values(ascending=False)\n",
        "print(quantity.head())"
      ],
      "metadata": {
        "colab": {
          "base_uri": "https://localhost:8080/"
        },
        "id": "pVFFFJHOZIEo",
        "outputId": "0c2d37dd-3abb-429c-b7e9-de1ab560a088"
      },
      "execution_count": 33,
      "outputs": [
        {
          "output_type": "stream",
          "name": "stdout",
          "text": [
            "Item Name\n",
            "Chicken Biriyani With Raitha And Gravy    860.0\n",
            "Mineral Water                             694.0\n",
            "Butter Naan                               490.0\n",
            "Romali Roti (1 No)                        417.0\n",
            "Chicken Fried Rice                        400.0\n",
            "Name: Qty., dtype: float64\n"
          ]
        }
      ]
    },
    {
      "cell_type": "markdown",
      "source": [
        "**which 3 category item is sold less in the month of july? (bar chart)**"
      ],
      "metadata": {
        "id": "TBFCSCQPbi89"
      }
    },
    {
      "cell_type": "code",
      "source": [
        "b=data[(data['Date']>='2023-07-01') & (data['Date']<='2023-07-31')]\n",
        "quantity = data.groupby(\"Category\")[\"Qty.\"].sum().sort_values(ascending=True)\n",
        "print(quantity.head(3))"
      ],
      "metadata": {
        "colab": {
          "base_uri": "https://localhost:8080/"
        },
        "id": "fXDd_ClYX7C5",
        "outputId": "6cd2822a-5afd-43fb-fb58-3d20b3e9cf8b"
      },
      "execution_count": 34,
      "outputs": [
        {
          "output_type": "stream",
          "name": "stdout",
          "text": [
            "Category\n",
            "NON VEG STARTERS MUTTON      1.0\n",
            "Non Veg combos              30.0\n",
            "Veg Soup                   115.0\n",
            "Name: Qty., dtype: float64\n"
          ]
        }
      ]
    },
    {
      "cell_type": "code",
      "source": [
        "import matplotlib.pyplot as plt\n",
        "plt.bar(quantity.head(3).index, quantity.head(3))\n",
        "plt.title('Top 3 Selling Items')\n",
        "plt.show()"
      ],
      "metadata": {
        "colab": {
          "base_uri": "https://localhost:8080/",
          "height": 452
        },
        "id": "D_QNFRD2cY2c",
        "outputId": "e9c13e77-3e60-47be-eaeb-0ca4002c597c"
      },
      "execution_count": 35,
      "outputs": [
        {
          "output_type": "display_data",
          "data": {
            "text/plain": [
              "<Figure size 640x480 with 1 Axes>"
            ],
            "image/png": "[encoded data removed]"
          },
          "metadata": {}
        }
      ]
    },
    {
      "cell_type": "markdown",
      "source": [
        "**pie chart for the sales by categroy**"
      ],
      "metadata": {
        "id": "j9Yv86A7c-01"
      }
    },
    {
      "cell_type": "code",
      "source": [
        "sales = data.groupby('Category')['Final Total'].sum()\n",
        "print(sales)"
      ],
      "metadata": {
        "colab": {
          "base_uri": "https://localhost:8080/"
        },
        "id": "1rLZ4qhqcfBH",
        "outputId": "ccfd77fd-5215-47a4-e7d8-f20d34026717"
      },
      "execution_count": 36,
      "outputs": [
        {
          "output_type": "stream",
          "name": "stdout",
          "text": [
            "Category\n",
            "Deserts & Mocktails          51517.47\n",
            "Indian Breads               117623.56\n",
            "NON VEG BRIYANI & RICE      379502.88\n",
            "NON VEG STARTERS CHICKEN    190550.96\n",
            "NON VEG STARTERS EGG          7272.36\n",
            "NON VEG STARTERS FISH        37488.48\n",
            "NON VEG STARTERS MUTTON        250.96\n",
            "Non Veg Gravy               122743.76\n",
            "Non Veg Soup                 27721.66\n",
            "Non Veg Tandoor              51633.04\n",
            "Non Veg combos                6857.56\n",
            "VEG BIRYANI & RICE           93072.70\n",
            "Veg Gravy                    54492.10\n",
            "Veg Soup                      9581.88\n",
            "Veg Starters                 57827.22\n",
            "Name: Final Total, dtype: float64\n"
          ]
        }
      ]
    },
    {
      "cell_type": "code",
      "source": [
        "plt.pie(sales,labels=sales.index)\n",
        "plt.title(\"sales by category\")\n",
        "plt.show()"
      ],
      "metadata": {
        "colab": {
          "base_uri": "https://localhost:8080/",
          "height": 428
        },
        "id": "K6kfF1kldU5s",
        "outputId": "df076c4a-414f-4dc4-a46a-d144edaa08af"
      },
      "execution_count": 40,
      "outputs": [
        {
          "output_type": "display_data",
          "data": {
            "text/plain": [
              "<Figure size 640x480 with 1 Axes>"
            ],
            "image/png": "[encoded data removed]"
          },
          "metadata": {}
        }
      ]
    },
    {
      "cell_type": "markdown",
      "source": [
        "**what is AOV of the resturant (average order value) total amount / no of bills - 549.40**"
      ],
      "metadata": {
        "id": "jBTIPgr2eNNg"
      }
    },
    {
      "cell_type": "code",
      "source": [
        "aov=data['Final Total'].mean()\n",
        "print(\" Average order value of the resturant : \",aov)"
      ],
      "metadata": {
        "id": "_9-h1OJCduxm",
        "colab": {
          "base_uri": "https://localhost:8080/"
        },
        "outputId": "f1ed05db-b696-4280-c4aa-e6f85ff518b3"
      },
      "execution_count": 39,
      "outputs": [
        {
          "output_type": "stream",
          "name": "stdout",
          "text": [
            " Average order value of the resturant :  166.8236108809721\n"
          ]
        }
      ]
    }
  ]
}